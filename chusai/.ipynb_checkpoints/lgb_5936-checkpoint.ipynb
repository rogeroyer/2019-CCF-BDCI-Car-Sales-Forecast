{
 "cells": [
  {
   "cell_type": "code",
   "execution_count": 1,
   "metadata": {
    "collapsed": false
   },
   "outputs": [],
   "source": [
    "import random\n",
    "import pandas as pd\n",
    "import numpy as np\n",
    "from sklearn.metrics import mean_squared_error as mse\n",
    "import lightgbm as lgb\n",
    "from time import time\n",
    "import matplotlib.pyplot as plt\n",
    "from sklearn.preprocessing import StandardScaler\n",
    "import warnings\n",
    "warnings.simplefilter(action='ignore', category=FutureWarning)\n",
    "warnings.filterwarnings('ignore')\n",
    "\n",
    "random.seed(2019)\n",
    "np.random.seed(2019)"
   ]
  },
  {
   "cell_type": "markdown",
   "metadata": {},
   "source": [
    "# 读取数据\\整合数据"
   ]
  },
  {
   "cell_type": "code",
   "execution_count": 2,
   "metadata": {
    "collapsed": true
   },
   "outputs": [],
   "source": [
    "data_path = './data/'\n",
    "\n",
    "train_sales_data = pd.read_csv(data_path + 'train_sales_data.csv', encoding='utf-8')\n",
    "train_search_data = pd.read_csv(data_path + 'train_search_data.csv', encoding='utf-8')\n",
    "test_data = pd.read_csv(data_path + 'evaluation_public.csv', encoding='utf-8')\n",
    "\n",
    "data = pd.concat([train_sales_data, test_data], ignore_index=True)\n",
    "data = data.merge(train_search_data, on=['province', 'adcode', 'model', 'regYear', 'regMonth'],how='left')\n",
    "\n",
    "\n",
    "data['label'] = data['salesVolume']\n",
    "\n",
    "del data['salesVolume'], data['forecastVolum']\n",
    "data['id'] = data['id'].fillna(0).astype(int)\n",
    "data['bodyType'] = data['model'].map(train_sales_data.drop_duplicates('model').set_index('model')['bodyType'])\n",
    "for i in ['bodyType', 'model']:\n",
    "    data[i] = data[i].map(dict(zip(data[i].unique(), range(data[i].nunique()))))\n",
    "\n",
    "data['seq'] = (data['regYear']-2016) * 12 + data['regMonth']#获取时间序列标记\n",
    "\n",
    "data['model_adcode'] = data['adcode'] + data['model']\n",
    "data['model_adcode_seq'] = data['model_adcode'] * 100 + data['seq']\n",
    "\n",
    "data['adcode_seq'] = data['adcode']*100+data['seq']\n",
    "data['model_seq'] = (data['model'])*10000+data['seq']\n",
    "\n",
    "data['label'] = np.log1p(data['label'])"
   ]
  },
  {
   "cell_type": "markdown",
   "metadata": {},
   "source": [
    "# 评分函数"
   ]
  },
  {
   "cell_type": "code",
   "execution_count": 3,
   "metadata": {
    "collapsed": true
   },
   "outputs": [],
   "source": [
    "from sklearn.metrics import mean_squared_error\n",
    "\n",
    "def metrics(y_true, y_pred, model):\n",
    "    data = pd.DataFrame({'model': model, 'salesVolume': y_true, 'label': y_pred})\n",
    "    data['label'] = data['label'].map(lambda index: -index if index < 0 else index)\n",
    "    res, count = 0, 0\n",
    "    for index, cars in data.groupby('model'):\n",
    "        a = np.array(cars['salesVolume'])\n",
    "        b = np.array(cars['label'])\n",
    "        temp = np.sqrt(np.sum((a - b) ** 2) / len(a)) / np.mean(a)\n",
    "        res += temp\n",
    "        count += 1\n",
    "        print(temp)\n",
    "    return 1 - (res / count)\n"
   ]
  },
  {
   "cell_type": "markdown",
   "metadata": {},
   "source": [
    "# 特征工程"
   ]
  },
  {
   "cell_type": "markdown",
   "metadata": {},
   "source": [
    "###### 历史特征统计函数"
   ]
  },
  {
   "cell_type": "code",
   "execution_count": 4,
   "metadata": {
    "collapsed": true
   },
   "outputs": [],
   "source": [
    "def calculate_sum_mean(feature, month):#计算过去几月的特征和\n",
    "    data[feature.format('_diff_1')] = data[feature.format(2)]-data[feature.format(1)]\n",
    "    data[feature.format('sum_{0}'.format(month))] = 0\n",
    "    for i in range(1, month+1):\n",
    "        data[feature.format('sum_{0}'.format(month))] += data[feature.format(i)]\n",
    "    data[feature.format('mean')] = data[feature.format('sum_{0}'.format(month))]/month\n",
    "        \n",
    "    "
   ]
  },
  {
   "cell_type": "markdown",
   "metadata": {},
   "source": [
    "###### 获取时移特征"
   ]
  },
  {
   "cell_type": "code",
   "execution_count": 5,
   "metadata": {
    "collapsed": true
   },
   "outputs": [],
   "source": [
    "def get_time_shift_feature(Data, month):\n",
    "    data = Data[['adcode','bodyType','id', 'model', 'regMonth', 'regYear', 'label', 'seq', 'model_adcode', \n",
    "                   'model_adcode_seq','adcode_seq', 'model_seq', 'popularity']]\n",
    "    for j in range(1,13):\n",
    "        data['model_adcode_seq_{0}'.format(j)] = data['model_adcode_seq'] + j\n",
    "        data_index = data[~data.label.isnull()].set_index('model_adcode_seq_{0}'.format(j))\n",
    "        data['shift_label_{0}'.format(j)] = data['model_adcode_seq'].map(data_index['label'])\n",
    "        if month==1:\n",
    "            data['shift_popularity_{0}'.format(j)] = data['model_adcode_seq'].map(data_index['popularity'])\n",
    "        data = data.drop(['model_adcode_seq_{0}'.format(j)], axis=1)\n",
    "    return data"
   ]
  },
  {
   "cell_type": "markdown",
   "metadata": {},
   "source": [
    "###### 获取组合时移特征"
   ]
  },
  {
   "cell_type": "code",
   "execution_count": 6,
   "metadata": {
    "collapsed": true
   },
   "outputs": [],
   "source": [
    "def get_group_shift_feature(data,group_feature):\n",
    "    Data = data\n",
    "    g_data = Data.groupby(by=[group_feature])['label'].sum(skipna=False)\n",
    "    g_data = g_data.fillna(np.nan).reset_index()\n",
    "    for j in range(1,13):\n",
    "        g_data[group_feature+'_{0}'.format(j)] = g_data[group_feature] + j\n",
    "        g_data_index = g_data[~g_data.label.isnull()].set_index(group_feature+'_{0}'.format(j))\n",
    "        g_data[group_feature+'_shift_{0}'.format(j)] = g_data[group_feature].map(g_data_index['label'])\n",
    "        del g_data[group_feature+'_{0}'.format(j)]\n",
    "    del g_data['label']\n",
    "    data = pd.merge(data, g_data, on=[group_feature], how='left')\n",
    "    return data"
   ]
  },
  {
   "cell_type": "markdown",
   "metadata": {},
   "source": [
    "###### 获取历史销量特征"
   ]
  },
  {
   "cell_type": "code",
   "execution_count": 7,
   "metadata": {
    "collapsed": true
   },
   "outputs": [],
   "source": [
    "def get_history_label_feature(month):\n",
    "    for i in [2,3,4,6,12]:\n",
    "        calculate_sum_mean('shift_label_{0}', i)\n",
    "        if month==1:\n",
    "            calculate_sum_mean('shift_popularity_{0}', i)\n",
    "        calculate_sum_mean('adcode_seq_shift_{0}', i)\n",
    "        calculate_sum_mean('model_seq_shift_{0}', i)"
   ]
  },
  {
   "cell_type": "markdown",
   "metadata": {},
   "source": [
    "###### 定义lgb模型"
   ]
  },
  {
   "cell_type": "code",
   "execution_count": 8,
   "metadata": {
    "collapsed": true
   },
   "outputs": [],
   "source": [
    "lgb_model = lgb.LGBMRegressor(\n",
    "                            num_leaves=31, reg_alpha=0.25, learning_rate=0.05, min_child_samples=5, seed=2019,reg_lambda=0.25, \n",
    "                                objective='mse',max_depth=-1, n_estimators=2100, subsample=0.9, colsample_bytree=0.7, random_state=2019\n",
    "                            )"
   ]
  },
  {
   "cell_type": "markdown",
   "metadata": {},
   "source": [
    "# 预测单月销量，再预测下月"
   ]
  },
  {
   "cell_type": "code",
   "execution_count": 9,
   "metadata": {
    "collapsed": false,
    "scrolled": true
   },
   "outputs": [
    {
     "name": "stdout",
     "output_type": "stream",
     "text": [
      "=================predict month 1==================\n",
      "['shift_label_1', 'shift_popularity_1', 'shift_label_2', 'shift_popularity_2', 'shift_label_3', 'shift_popularity_3', 'shift_label_4', 'shift_popularity_4', 'shift_label_5', 'shift_popularity_5', 'shift_label_6', 'shift_popularity_6', 'shift_label_7', 'shift_popularity_7', 'shift_label_8', 'shift_popularity_8', 'shift_label_9', 'shift_popularity_9', 'shift_label_10', 'shift_popularity_10', 'shift_label_11', 'shift_popularity_11', 'shift_label_12', 'shift_popularity_12', 'adcode_seq_shift_1', 'adcode_seq_shift_2', 'adcode_seq_shift_3', 'adcode_seq_shift_4', 'adcode_seq_shift_5', 'adcode_seq_shift_6', 'adcode_seq_shift_7', 'adcode_seq_shift_8', 'adcode_seq_shift_9', 'adcode_seq_shift_10', 'adcode_seq_shift_11', 'adcode_seq_shift_12', 'model_seq_shift_1', 'model_seq_shift_2', 'model_seq_shift_3', 'model_seq_shift_4', 'model_seq_shift_5', 'model_seq_shift_6', 'model_seq_shift_7', 'model_seq_shift_8', 'model_seq_shift_9', 'model_seq_shift_10', 'model_seq_shift_11', 'model_seq_shift_12', 'shift_label__diff_1', 'shift_label_sum_2', 'shift_label_mean', 'shift_popularity__diff_1', 'shift_popularity_sum_2', 'shift_popularity_mean', 'adcode_seq_shift__diff_1', 'adcode_seq_shift_sum_2', 'adcode_seq_shift_mean', 'model_seq_shift__diff_1', 'model_seq_shift_sum_2', 'model_seq_shift_mean', 'shift_label_sum_3', 'shift_popularity_sum_3', 'adcode_seq_shift_sum_3', 'model_seq_shift_sum_3', 'shift_label_sum_4', 'shift_popularity_sum_4', 'adcode_seq_shift_sum_4', 'model_seq_shift_sum_4', 'shift_label_sum_6', 'shift_popularity_sum_6', 'adcode_seq_shift_sum_6', 'model_seq_shift_sum_6', 'shift_label_sum_12', 'shift_popularity_sum_12', 'adcode_seq_shift_sum_12', 'model_seq_shift_sum_12', 'regMonth', 'regYear', 'adcode', 'bodyType', 'model', 'model_adcode_seq', 'model_adcode']\n",
      "train LGB model...\n",
      "\n"
     ]
    },
    {
     "data": {
      "text/plain": [
       "LGBMRegressor(boosting_type='gbdt', class_weight=None, colsample_bytree=0.7,\n",
       "              importance_type='split', learning_rate=0.05, max_depth=-1,\n",
       "              min_child_samples=5, min_child_weight=0.001, min_split_gain=0.0,\n",
       "              n_estimators=2100, n_jobs=-1, num_leaves=31, objective='mse',\n",
       "              random_state=2019, reg_alpha=0.25, reg_lambda=0.25, seed=2019,\n",
       "              silent=True, subsample=0.9, subsample_for_bin=200000,\n",
       "              subsample_freq=0)"
      ]
     },
     "execution_count": 9,
     "metadata": {},
     "output_type": "execute_result"
    },
    {
     "name": "stdout",
     "output_type": "stream",
     "text": [
      "month 1 train ending!\n",
      "\n",
      "=================predict month 2==================\n",
      "['shift_label_1', 'shift_label_2', 'shift_label_3', 'shift_label_4', 'shift_label_5', 'shift_label_6', 'shift_label_7', 'shift_label_8', 'shift_label_9', 'shift_label_10', 'shift_label_11', 'shift_label_12', 'adcode_seq_shift_1', 'adcode_seq_shift_2', 'adcode_seq_shift_3', 'adcode_seq_shift_4', 'adcode_seq_shift_5', 'adcode_seq_shift_6', 'adcode_seq_shift_7', 'adcode_seq_shift_8', 'adcode_seq_shift_9', 'adcode_seq_shift_10', 'adcode_seq_shift_11', 'adcode_seq_shift_12', 'model_seq_shift_1', 'model_seq_shift_2', 'model_seq_shift_3', 'model_seq_shift_4', 'model_seq_shift_5', 'model_seq_shift_6', 'model_seq_shift_7', 'model_seq_shift_8', 'model_seq_shift_9', 'model_seq_shift_10', 'model_seq_shift_11', 'model_seq_shift_12', 'shift_label__diff_1', 'shift_label_sum_2', 'shift_label_mean', 'adcode_seq_shift__diff_1', 'adcode_seq_shift_sum_2', 'adcode_seq_shift_mean', 'model_seq_shift__diff_1', 'model_seq_shift_sum_2', 'model_seq_shift_mean', 'shift_label_sum_3', 'adcode_seq_shift_sum_3', 'model_seq_shift_sum_3', 'shift_label_sum_4', 'adcode_seq_shift_sum_4', 'model_seq_shift_sum_4', 'shift_label_sum_6', 'adcode_seq_shift_sum_6', 'model_seq_shift_sum_6', 'shift_label_sum_12', 'adcode_seq_shift_sum_12', 'model_seq_shift_sum_12', 'regMonth', 'regYear', 'adcode', 'bodyType', 'model', 'model_adcode_seq', 'model_adcode']\n",
      "train LGB model...\n",
      "\n"
     ]
    },
    {
     "data": {
      "text/plain": [
       "LGBMRegressor(boosting_type='gbdt', class_weight=None, colsample_bytree=0.7,\n",
       "              importance_type='split', learning_rate=0.05, max_depth=-1,\n",
       "              min_child_samples=5, min_child_weight=0.001, min_split_gain=0.0,\n",
       "              n_estimators=2100, n_jobs=-1, num_leaves=31, objective='mse',\n",
       "              random_state=2019, reg_alpha=0.25, reg_lambda=0.25, seed=2019,\n",
       "              silent=True, subsample=0.9, subsample_for_bin=200000,\n",
       "              subsample_freq=0)"
      ]
     },
     "execution_count": 9,
     "metadata": {},
     "output_type": "execute_result"
    },
    {
     "name": "stdout",
     "output_type": "stream",
     "text": [
      "month 2 train ending!\n",
      "\n",
      "=================predict month 3==================\n",
      "['shift_label_1', 'shift_label_2', 'shift_label_3', 'shift_label_4', 'shift_label_5', 'shift_label_6', 'shift_label_7', 'shift_label_8', 'shift_label_9', 'shift_label_10', 'shift_label_11', 'shift_label_12', 'adcode_seq_shift_1', 'adcode_seq_shift_2', 'adcode_seq_shift_3', 'adcode_seq_shift_4', 'adcode_seq_shift_5', 'adcode_seq_shift_6', 'adcode_seq_shift_7', 'adcode_seq_shift_8', 'adcode_seq_shift_9', 'adcode_seq_shift_10', 'adcode_seq_shift_11', 'adcode_seq_shift_12', 'model_seq_shift_1', 'model_seq_shift_2', 'model_seq_shift_3', 'model_seq_shift_4', 'model_seq_shift_5', 'model_seq_shift_6', 'model_seq_shift_7', 'model_seq_shift_8', 'model_seq_shift_9', 'model_seq_shift_10', 'model_seq_shift_11', 'model_seq_shift_12', 'shift_label__diff_1', 'shift_label_sum_2', 'shift_label_mean', 'adcode_seq_shift__diff_1', 'adcode_seq_shift_sum_2', 'adcode_seq_shift_mean', 'model_seq_shift__diff_1', 'model_seq_shift_sum_2', 'model_seq_shift_mean', 'shift_label_sum_3', 'adcode_seq_shift_sum_3', 'model_seq_shift_sum_3', 'shift_label_sum_4', 'adcode_seq_shift_sum_4', 'model_seq_shift_sum_4', 'shift_label_sum_6', 'adcode_seq_shift_sum_6', 'model_seq_shift_sum_6', 'shift_label_sum_12', 'adcode_seq_shift_sum_12', 'model_seq_shift_sum_12', 'regMonth', 'regYear', 'adcode', 'bodyType', 'model', 'model_adcode_seq', 'model_adcode']\n",
      "train LGB model...\n",
      "\n"
     ]
    },
    {
     "data": {
      "text/plain": [
       "LGBMRegressor(boosting_type='gbdt', class_weight=None, colsample_bytree=0.7,\n",
       "              importance_type='split', learning_rate=0.05, max_depth=-1,\n",
       "              min_child_samples=5, min_child_weight=0.001, min_split_gain=0.0,\n",
       "              n_estimators=2100, n_jobs=-1, num_leaves=31, objective='mse',\n",
       "              random_state=2019, reg_alpha=0.25, reg_lambda=0.25, seed=2019,\n",
       "              silent=True, subsample=0.9, subsample_for_bin=200000,\n",
       "              subsample_freq=0)"
      ]
     },
     "execution_count": 9,
     "metadata": {},
     "output_type": "execute_result"
    },
    {
     "name": "stdout",
     "output_type": "stream",
     "text": [
      "month 3 train ending!\n",
      "\n",
      "=================predict month 4==================\n",
      "['shift_label_1', 'shift_label_2', 'shift_label_3', 'shift_label_4', 'shift_label_5', 'shift_label_6', 'shift_label_7', 'shift_label_8', 'shift_label_9', 'shift_label_10', 'shift_label_11', 'shift_label_12', 'adcode_seq_shift_1', 'adcode_seq_shift_2', 'adcode_seq_shift_3', 'adcode_seq_shift_4', 'adcode_seq_shift_5', 'adcode_seq_shift_6', 'adcode_seq_shift_7', 'adcode_seq_shift_8', 'adcode_seq_shift_9', 'adcode_seq_shift_10', 'adcode_seq_shift_11', 'adcode_seq_shift_12', 'model_seq_shift_1', 'model_seq_shift_2', 'model_seq_shift_3', 'model_seq_shift_4', 'model_seq_shift_5', 'model_seq_shift_6', 'model_seq_shift_7', 'model_seq_shift_8', 'model_seq_shift_9', 'model_seq_shift_10', 'model_seq_shift_11', 'model_seq_shift_12', 'shift_label__diff_1', 'shift_label_sum_2', 'shift_label_mean', 'adcode_seq_shift__diff_1', 'adcode_seq_shift_sum_2', 'adcode_seq_shift_mean', 'model_seq_shift__diff_1', 'model_seq_shift_sum_2', 'model_seq_shift_mean', 'shift_label_sum_3', 'adcode_seq_shift_sum_3', 'model_seq_shift_sum_3', 'shift_label_sum_4', 'adcode_seq_shift_sum_4', 'model_seq_shift_sum_4', 'shift_label_sum_6', 'adcode_seq_shift_sum_6', 'model_seq_shift_sum_6', 'shift_label_sum_12', 'adcode_seq_shift_sum_12', 'model_seq_shift_sum_12', 'regMonth', 'regYear', 'adcode', 'bodyType', 'model', 'model_adcode_seq', 'model_adcode']\n",
      "train LGB model...\n",
      "\n"
     ]
    },
    {
     "data": {
      "text/plain": [
       "LGBMRegressor(boosting_type='gbdt', class_weight=None, colsample_bytree=0.7,\n",
       "              importance_type='split', learning_rate=0.05, max_depth=-1,\n",
       "              min_child_samples=5, min_child_weight=0.001, min_split_gain=0.0,\n",
       "              n_estimators=2100, n_jobs=-1, num_leaves=31, objective='mse',\n",
       "              random_state=2019, reg_alpha=0.25, reg_lambda=0.25, seed=2019,\n",
       "              silent=True, subsample=0.9, subsample_for_bin=200000,\n",
       "              subsample_freq=0)"
      ]
     },
     "execution_count": 9,
     "metadata": {},
     "output_type": "execute_result"
    },
    {
     "name": "stdout",
     "output_type": "stream",
     "text": [
      "month 4 train ending!\n",
      "\n"
     ]
    }
   ],
   "source": [
    "for i in range(1, 5):\n",
    "    print('=================predict month {0}=================='.format(i))\n",
    "\n",
    "    data = get_time_shift_feature(data, i)\n",
    "    data = get_group_shift_feature(data, 'adcode_seq')\n",
    "    data = get_group_shift_feature(data, 'model_seq')\n",
    "    get_history_label_feature(i)\n",
    "\n",
    "    data_columns = list(data.columns)\n",
    "    dels = ['regMonth', 'regYear', 'adcode', 'bodyType', 'id', 'model', 'province', 'label', 'seq', 'model_adcode',\n",
    "                'model_adcode_seq', 'adcode_seq', 'model_seq', 'popularity']\n",
    "    number_feature = []\n",
    "    for index in data_columns:\n",
    "        if index in dels:\n",
    "            continue\n",
    "        else:\n",
    "            number_feature.append(index)\n",
    "    category_feature = ['regMonth', 'regYear', 'adcode', 'bodyType', 'model', 'model_adcode_seq', 'model_adcode']\n",
    "    features = number_feature + category_feature\n",
    "    print(features)\n",
    "\n",
    "    predict_data = data[data['seq'] == 24 + i]\n",
    "    train_idx = (data['seq'].between(13, 23 + i))\n",
    "\n",
    "    train_y = data[train_idx]['label']\n",
    "    train_x = data[train_idx][features]\n",
    "\n",
    "    print(\"train LGB model...\\n\")\n",
    "    lgb_model.fit(train_x, train_y, categorical_feature=category_feature)\n",
    "    predict_data['lgb_pred_label'] = lgb_model.predict(predict_data[features])\n",
    "    print('month {} train ending!\\n'.format(i))\n",
    "\n",
    "    predict_data = predict_data.sort_index(by=['id'])\n",
    "    data['transform_label'] = data['id'].map(predict_data.set_index('id')['lgb_pred_label'])\n",
    "    data['label'] = data['label'].fillna(data['transform_label'])\n",
    "    del data['transform_label']\n"
   ]
  },
  {
   "cell_type": "markdown",
   "metadata": {},
   "source": [
    "# submission "
   ]
  },
  {
   "cell_type": "code",
   "execution_count": 10,
   "metadata": {
    "collapsed": true
   },
   "outputs": [],
   "source": [
    "# data['label'] = np.expm1(data['label'])\n",
    "# predict_data_idx = (data['seq'] > 24)\n",
    "# data['forecastVolum'] = data['label'].apply(lambda x: 0 if x < 0 else x).round().astype(int)\n",
    "# data[predict_data_idx][['id', 'forecastVolum']].to_csv('./submit/new_5936_1.csv', index=False)"
   ]
  },
  {
   "cell_type": "code",
   "execution_count": 11,
   "metadata": {
    "collapsed": false
   },
   "outputs": [],
   "source": [
    "# data['label'] = np.expm1(data['label'])\n",
    "# data[data['seq'] > 24]"
   ]
  },
  {
   "cell_type": "code",
   "execution_count": 12,
   "metadata": {
    "collapsed": false
   },
   "outputs": [
    {
     "data": {
      "text/html": [
       "<div>\n",
       "<style scoped>\n",
       "    .dataframe tbody tr th:only-of-type {\n",
       "        vertical-align: middle;\n",
       "    }\n",
       "\n",
       "    .dataframe tbody tr th {\n",
       "        vertical-align: top;\n",
       "    }\n",
       "\n",
       "    .dataframe thead th {\n",
       "        text-align: right;\n",
       "    }\n",
       "</style>\n",
       "<table border=\"1\" class=\"dataframe\">\n",
       "  <thead>\n",
       "    <tr style=\"text-align: right;\">\n",
       "      <th></th>\n",
       "      <th>adcode</th>\n",
       "      <th>bodyType</th>\n",
       "      <th>id</th>\n",
       "      <th>model</th>\n",
       "      <th>regMonth</th>\n",
       "      <th>regYear</th>\n",
       "      <th>label</th>\n",
       "      <th>seq</th>\n",
       "      <th>model_adcode</th>\n",
       "      <th>model_adcode_seq</th>\n",
       "      <th>...</th>\n",
       "      <th>model_seq_shift_sum_3</th>\n",
       "      <th>shift_label_sum_4</th>\n",
       "      <th>adcode_seq_shift_sum_4</th>\n",
       "      <th>model_seq_shift_sum_4</th>\n",
       "      <th>shift_label_sum_6</th>\n",
       "      <th>adcode_seq_shift_sum_6</th>\n",
       "      <th>model_seq_shift_sum_6</th>\n",
       "      <th>shift_label_sum_12</th>\n",
       "      <th>adcode_seq_shift_sum_12</th>\n",
       "      <th>model_seq_shift_sum_12</th>\n",
       "    </tr>\n",
       "  </thead>\n",
       "  <tbody>\n",
       "    <tr>\n",
       "      <td>31680</td>\n",
       "      <td>310000</td>\n",
       "      <td>0</td>\n",
       "      <td>1</td>\n",
       "      <td>0</td>\n",
       "      <td>1</td>\n",
       "      <td>2018</td>\n",
       "      <td>241.013009</td>\n",
       "      <td>25</td>\n",
       "      <td>310000</td>\n",
       "      <td>31000025</td>\n",
       "      <td>...</td>\n",
       "      <td>383.60897</td>\n",
       "      <td>22.741146</td>\n",
       "      <td>1346.381966</td>\n",
       "      <td>513.022751</td>\n",
       "      <td>33.926386</td>\n",
       "      <td>1995.751828</td>\n",
       "      <td>769.849710</td>\n",
       "      <td>67.252498</td>\n",
       "      <td>3915.599018</td>\n",
       "      <td>1533.018977</td>\n",
       "    </tr>\n",
       "    <tr>\n",
       "      <td>31681</td>\n",
       "      <td>530000</td>\n",
       "      <td>0</td>\n",
       "      <td>2</td>\n",
       "      <td>0</td>\n",
       "      <td>1</td>\n",
       "      <td>2018</td>\n",
       "      <td>297.024708</td>\n",
       "      <td>25</td>\n",
       "      <td>530000</td>\n",
       "      <td>53000025</td>\n",
       "      <td>...</td>\n",
       "      <td>383.60897</td>\n",
       "      <td>23.043567</td>\n",
       "      <td>1353.678295</td>\n",
       "      <td>513.022751</td>\n",
       "      <td>34.718714</td>\n",
       "      <td>2012.802126</td>\n",
       "      <td>769.849710</td>\n",
       "      <td>68.494930</td>\n",
       "      <td>3933.112371</td>\n",
       "      <td>1533.018977</td>\n",
       "    </tr>\n",
       "    <tr>\n",
       "      <td>31682</td>\n",
       "      <td>150000</td>\n",
       "      <td>0</td>\n",
       "      <td>3</td>\n",
       "      <td>0</td>\n",
       "      <td>1</td>\n",
       "      <td>2018</td>\n",
       "      <td>131.512196</td>\n",
       "      <td>25</td>\n",
       "      <td>150000</td>\n",
       "      <td>15000025</td>\n",
       "      <td>...</td>\n",
       "      <td>383.60897</td>\n",
       "      <td>20.438977</td>\n",
       "      <td>1269.401474</td>\n",
       "      <td>513.022751</td>\n",
       "      <td>30.878958</td>\n",
       "      <td>1884.326271</td>\n",
       "      <td>769.849710</td>\n",
       "      <td>61.734231</td>\n",
       "      <td>3691.910677</td>\n",
       "      <td>1533.018977</td>\n",
       "    </tr>\n",
       "    <tr>\n",
       "      <td>31683</td>\n",
       "      <td>110000</td>\n",
       "      <td>0</td>\n",
       "      <td>4</td>\n",
       "      <td>0</td>\n",
       "      <td>1</td>\n",
       "      <td>2018</td>\n",
       "      <td>252.791720</td>\n",
       "      <td>25</td>\n",
       "      <td>110000</td>\n",
       "      <td>11000025</td>\n",
       "      <td>...</td>\n",
       "      <td>383.60897</td>\n",
       "      <td>22.426024</td>\n",
       "      <td>1282.827694</td>\n",
       "      <td>513.022751</td>\n",
       "      <td>33.879550</td>\n",
       "      <td>1915.261139</td>\n",
       "      <td>769.849710</td>\n",
       "      <td>69.855708</td>\n",
       "      <td>3825.479327</td>\n",
       "      <td>1533.018977</td>\n",
       "    </tr>\n",
       "    <tr>\n",
       "      <td>31684</td>\n",
       "      <td>510000</td>\n",
       "      <td>0</td>\n",
       "      <td>5</td>\n",
       "      <td>0</td>\n",
       "      <td>1</td>\n",
       "      <td>2018</td>\n",
       "      <td>387.521496</td>\n",
       "      <td>25</td>\n",
       "      <td>510000</td>\n",
       "      <td>51000025</td>\n",
       "      <td>...</td>\n",
       "      <td>383.60897</td>\n",
       "      <td>23.759101</td>\n",
       "      <td>1529.360305</td>\n",
       "      <td>513.022751</td>\n",
       "      <td>35.281531</td>\n",
       "      <td>2271.537683</td>\n",
       "      <td>769.849710</td>\n",
       "      <td>70.421272</td>\n",
       "      <td>4462.000215</td>\n",
       "      <td>1533.018977</td>\n",
       "    </tr>\n",
       "    <tr>\n",
       "      <td>...</td>\n",
       "      <td>...</td>\n",
       "      <td>...</td>\n",
       "      <td>...</td>\n",
       "      <td>...</td>\n",
       "      <td>...</td>\n",
       "      <td>...</td>\n",
       "      <td>...</td>\n",
       "      <td>...</td>\n",
       "      <td>...</td>\n",
       "      <td>...</td>\n",
       "      <td>...</td>\n",
       "      <td>...</td>\n",
       "      <td>...</td>\n",
       "      <td>...</td>\n",
       "      <td>...</td>\n",
       "      <td>...</td>\n",
       "      <td>...</td>\n",
       "      <td>...</td>\n",
       "      <td>...</td>\n",
       "      <td>...</td>\n",
       "      <td>...</td>\n",
       "    </tr>\n",
       "    <tr>\n",
       "      <td>36955</td>\n",
       "      <td>350000</td>\n",
       "      <td>0</td>\n",
       "      <td>5364</td>\n",
       "      <td>59</td>\n",
       "      <td>4</td>\n",
       "      <td>2018</td>\n",
       "      <td>81.006999</td>\n",
       "      <td>28</td>\n",
       "      <td>350059</td>\n",
       "      <td>35005928</td>\n",
       "      <td>...</td>\n",
       "      <td>313.42121</td>\n",
       "      <td>17.954366</td>\n",
       "      <td>1304.951209</td>\n",
       "      <td>424.063298</td>\n",
       "      <td>27.329373</td>\n",
       "      <td>1991.106727</td>\n",
       "      <td>642.025512</td>\n",
       "      <td>54.622168</td>\n",
       "      <td>3981.025715</td>\n",
       "      <td>1289.093882</td>\n",
       "    </tr>\n",
       "    <tr>\n",
       "      <td>36956</td>\n",
       "      <td>210000</td>\n",
       "      <td>0</td>\n",
       "      <td>5365</td>\n",
       "      <td>59</td>\n",
       "      <td>4</td>\n",
       "      <td>2018</td>\n",
       "      <td>84.966207</td>\n",
       "      <td>28</td>\n",
       "      <td>210059</td>\n",
       "      <td>21005928</td>\n",
       "      <td>...</td>\n",
       "      <td>313.42121</td>\n",
       "      <td>17.363225</td>\n",
       "      <td>1286.912342</td>\n",
       "      <td>424.063298</td>\n",
       "      <td>26.755887</td>\n",
       "      <td>1966.101087</td>\n",
       "      <td>642.025512</td>\n",
       "      <td>54.611152</td>\n",
       "      <td>3970.755649</td>\n",
       "      <td>1289.093882</td>\n",
       "    </tr>\n",
       "    <tr>\n",
       "      <td>36957</td>\n",
       "      <td>500000</td>\n",
       "      <td>0</td>\n",
       "      <td>5366</td>\n",
       "      <td>59</td>\n",
       "      <td>4</td>\n",
       "      <td>2018</td>\n",
       "      <td>102.900300</td>\n",
       "      <td>28</td>\n",
       "      <td>500059</td>\n",
       "      <td>50005928</td>\n",
       "      <td>...</td>\n",
       "      <td>313.42121</td>\n",
       "      <td>18.342554</td>\n",
       "      <td>1242.924574</td>\n",
       "      <td>424.063298</td>\n",
       "      <td>27.695435</td>\n",
       "      <td>1877.764593</td>\n",
       "      <td>642.025512</td>\n",
       "      <td>57.548946</td>\n",
       "      <td>3749.078284</td>\n",
       "      <td>1289.093882</td>\n",
       "    </tr>\n",
       "    <tr>\n",
       "      <td>36958</td>\n",
       "      <td>610000</td>\n",
       "      <td>0</td>\n",
       "      <td>5367</td>\n",
       "      <td>59</td>\n",
       "      <td>4</td>\n",
       "      <td>2018</td>\n",
       "      <td>194.354172</td>\n",
       "      <td>28</td>\n",
       "      <td>610059</td>\n",
       "      <td>61005928</td>\n",
       "      <td>...</td>\n",
       "      <td>313.42121</td>\n",
       "      <td>21.463429</td>\n",
       "      <td>1325.396521</td>\n",
       "      <td>424.063298</td>\n",
       "      <td>32.801477</td>\n",
       "      <td>2021.405097</td>\n",
       "      <td>642.025512</td>\n",
       "      <td>65.532078</td>\n",
       "      <td>4046.532725</td>\n",
       "      <td>1289.093882</td>\n",
       "    </tr>\n",
       "    <tr>\n",
       "      <td>36959</td>\n",
       "      <td>230000</td>\n",
       "      <td>0</td>\n",
       "      <td>5368</td>\n",
       "      <td>59</td>\n",
       "      <td>4</td>\n",
       "      <td>2018</td>\n",
       "      <td>52.254289</td>\n",
       "      <td>28</td>\n",
       "      <td>230059</td>\n",
       "      <td>23005928</td>\n",
       "      <td>...</td>\n",
       "      <td>313.42121</td>\n",
       "      <td>15.729081</td>\n",
       "      <td>1181.297695</td>\n",
       "      <td>424.063298</td>\n",
       "      <td>24.202949</td>\n",
       "      <td>1795.709436</td>\n",
       "      <td>642.025512</td>\n",
       "      <td>48.320177</td>\n",
       "      <td>3622.961627</td>\n",
       "      <td>1289.093882</td>\n",
       "    </tr>\n",
       "  </tbody>\n",
       "</table>\n",
       "<p>5280 rows × 70 columns</p>\n",
       "</div>"
      ],
      "text/plain": [
       "       adcode  bodyType    id  model  regMonth  regYear       label  seq  \\\n",
       "31680  310000         0     1      0         1     2018  241.013009   25   \n",
       "31681  530000         0     2      0         1     2018  297.024708   25   \n",
       "31682  150000         0     3      0         1     2018  131.512196   25   \n",
       "31683  110000         0     4      0         1     2018  252.791720   25   \n",
       "31684  510000         0     5      0         1     2018  387.521496   25   \n",
       "...       ...       ...   ...    ...       ...      ...         ...  ...   \n",
       "36955  350000         0  5364     59         4     2018   81.006999   28   \n",
       "36956  210000         0  5365     59         4     2018   84.966207   28   \n",
       "36957  500000         0  5366     59         4     2018  102.900300   28   \n",
       "36958  610000         0  5367     59         4     2018  194.354172   28   \n",
       "36959  230000         0  5368     59         4     2018   52.254289   28   \n",
       "\n",
       "       model_adcode  model_adcode_seq  ...  model_seq_shift_sum_3  \\\n",
       "31680        310000          31000025  ...              383.60897   \n",
       "31681        530000          53000025  ...              383.60897   \n",
       "31682        150000          15000025  ...              383.60897   \n",
       "31683        110000          11000025  ...              383.60897   \n",
       "31684        510000          51000025  ...              383.60897   \n",
       "...             ...               ...  ...                    ...   \n",
       "36955        350059          35005928  ...              313.42121   \n",
       "36956        210059          21005928  ...              313.42121   \n",
       "36957        500059          50005928  ...              313.42121   \n",
       "36958        610059          61005928  ...              313.42121   \n",
       "36959        230059          23005928  ...              313.42121   \n",
       "\n",
       "       shift_label_sum_4  adcode_seq_shift_sum_4  model_seq_shift_sum_4  \\\n",
       "31680          22.741146             1346.381966             513.022751   \n",
       "31681          23.043567             1353.678295             513.022751   \n",
       "31682          20.438977             1269.401474             513.022751   \n",
       "31683          22.426024             1282.827694             513.022751   \n",
       "31684          23.759101             1529.360305             513.022751   \n",
       "...                  ...                     ...                    ...   \n",
       "36955          17.954366             1304.951209             424.063298   \n",
       "36956          17.363225             1286.912342             424.063298   \n",
       "36957          18.342554             1242.924574             424.063298   \n",
       "36958          21.463429             1325.396521             424.063298   \n",
       "36959          15.729081             1181.297695             424.063298   \n",
       "\n",
       "       shift_label_sum_6  adcode_seq_shift_sum_6  model_seq_shift_sum_6  \\\n",
       "31680          33.926386             1995.751828             769.849710   \n",
       "31681          34.718714             2012.802126             769.849710   \n",
       "31682          30.878958             1884.326271             769.849710   \n",
       "31683          33.879550             1915.261139             769.849710   \n",
       "31684          35.281531             2271.537683             769.849710   \n",
       "...                  ...                     ...                    ...   \n",
       "36955          27.329373             1991.106727             642.025512   \n",
       "36956          26.755887             1966.101087             642.025512   \n",
       "36957          27.695435             1877.764593             642.025512   \n",
       "36958          32.801477             2021.405097             642.025512   \n",
       "36959          24.202949             1795.709436             642.025512   \n",
       "\n",
       "       shift_label_sum_12  adcode_seq_shift_sum_12  model_seq_shift_sum_12  \n",
       "31680           67.252498              3915.599018             1533.018977  \n",
       "31681           68.494930              3933.112371             1533.018977  \n",
       "31682           61.734231              3691.910677             1533.018977  \n",
       "31683           69.855708              3825.479327             1533.018977  \n",
       "31684           70.421272              4462.000215             1533.018977  \n",
       "...                   ...                      ...                     ...  \n",
       "36955           54.622168              3981.025715             1289.093882  \n",
       "36956           54.611152              3970.755649             1289.093882  \n",
       "36957           57.548946              3749.078284             1289.093882  \n",
       "36958           65.532078              4046.532725             1289.093882  \n",
       "36959           48.320177              3622.961627             1289.093882  \n",
       "\n",
       "[5280 rows x 70 columns]"
      ]
     },
     "execution_count": 12,
     "metadata": {},
     "output_type": "execute_result"
    }
   ],
   "source": [
    "data['label'] = np.expm1(data['label'])\n",
    "data[data['seq'] > 24]"
   ]
  },
  {
   "cell_type": "code",
   "execution_count": 15,
   "metadata": {
    "collapsed": false
   },
   "outputs": [
    {
     "data": {
      "text/plain": [
       "regMonth\n",
       "1    473.868935\n",
       "2    318.250062\n",
       "3    497.139422\n",
       "4    490.399432\n",
       "Name: label, dtype: float64"
      ]
     },
     "execution_count": 15,
     "metadata": {},
     "output_type": "execute_result"
    }
   ],
   "source": [
    "data[data['seq'] > 24].groupby(['regMonth'])['label'].mean()"
   ]
  }
 ],
 "metadata": {
  "kernelspec": {
   "display_name": "Python 3",
   "language": "python",
   "name": "python3"
  },
  "language_info": {
   "codemirror_mode": {
    "name": "ipython",
    "version": 3
   },
   "file_extension": ".py",
   "mimetype": "text/x-python",
   "name": "python",
   "nbconvert_exporter": "python",
   "pygments_lexer": "ipython3",
   "version": "3.6.0"
  }
 },
 "nbformat": 4,
 "nbformat_minor": 2
}
