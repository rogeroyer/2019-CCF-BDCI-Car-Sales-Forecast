{
 "cells": [
  {
   "cell_type": "code",
   "execution_count": 2,
   "metadata": {
    "collapsed": true
   },
   "outputs": [],
   "source": [
    "import pandas as pd\n",
    "import numpy as np\n",
    "# from mlxtend.regressor import StackingRegressor\n",
    "from sklearn.metrics import mean_squared_error as mse\n",
    "import lightgbm as lgb\n",
    "from time import time\n",
    "import matplotlib.pyplot as plt\n",
    "from sklearn.preprocessing import StandardScaler\n",
    "import warnings\n",
    "warnings.simplefilter(action='ignore', category=FutureWarning)\n",
    "warnings.filterwarnings('ignore')"
   ]
  },
  {
   "cell_type": "markdown",
   "metadata": {},
   "source": [
    "# 读取数据\\整合数据"
   ]
  },
  {
   "cell_type": "code",
   "execution_count": 3,
   "metadata": {
    "collapsed": true
   },
   "outputs": [],
   "source": [
    "data_path = './data/'\n",
    "\n",
    "train_sales_data = pd.read_csv(data_path + 'train_sales_data.csv', encoding='utf-8')\n",
    "train_search_data = pd.read_csv(data_path + 'train_search_data.csv', encoding='utf-8')\n",
    "test_data = pd.read_csv(data_path + 'evaluation_public.csv', encoding='utf-8')\n",
    "\n",
    "data = pd.concat([train_sales_data, test_data], ignore_index=True)\n",
    "data = data.merge(train_search_data, on=['province', 'adcode', 'model', 'regYear', 'regMonth'],how='left')\n",
    "\n",
    "\n",
    "data['label'] = data['salesVolume']\n",
    "\n",
    "del data['salesVolume'], data['forecastVolum']\n",
    "data['id'] = data['id'].fillna(0).astype(int)\n",
    "data['bodyType'] = data['model'].map(train_sales_data.drop_duplicates('model').set_index('model')['bodyType'])\n",
    "for i in ['bodyType', 'model']:\n",
    "    data[i] = data[i].map(dict(zip(data[i].unique(), range(data[i].nunique()))))\n",
    "\n",
    "data['seq'] = (data['regYear']-2016) * 12 + data['regMonth']#获取时间序列标记\n",
    "\n",
    "data['model_adcode'] = data['adcode'] + data['model']\n",
    "data['model_adcode_seq'] = data['model_adcode'] * 100 + data['seq']\n",
    "\n",
    "data['adcode_seq'] = data['adcode']*100+data['seq']\n",
    "data['model_seq'] = (data['model'])*10000+data['seq']\n",
    "\n",
    "data['label'] = np.log1p(data['label'])"
   ]
  },
  {
   "cell_type": "markdown",
   "metadata": {},
   "source": [
    "# 评分函数"
   ]
  },
  {
   "cell_type": "code",
   "execution_count": 4,
   "metadata": {
    "collapsed": true
   },
   "outputs": [],
   "source": [
    "from sklearn.metrics import mean_squared_error\n",
    "\n",
    "def metrics(y_true, y_pred, model):\n",
    "    data = pd.DataFrame({'model': model, 'salesVolume': y_true, 'label': y_pred})\n",
    "    data['label'] = data['label'].map(lambda index: -index if index < 0 else index)\n",
    "    res, count = 0, 0\n",
    "    for index, cars in data.groupby('model'):\n",
    "        a = np.array(cars['salesVolume'])\n",
    "        b = np.array(cars['label'])\n",
    "        temp = np.sqrt(np.sum((a - b) ** 2) / len(a)) / np.mean(a)\n",
    "        res += temp\n",
    "        count += 1\n",
    "        print(temp)\n",
    "    return 1 - (res / count)\n"
   ]
  },
  {
   "cell_type": "markdown",
   "metadata": {},
   "source": [
    "# 特征工程"
   ]
  },
  {
   "cell_type": "markdown",
   "metadata": {},
   "source": [
    "###### 历史特征统计函数"
   ]
  },
  {
   "cell_type": "code",
   "execution_count": 5,
   "metadata": {
    "collapsed": true
   },
   "outputs": [],
   "source": [
    "def calculate_sum_mean(feature, month):#计算过去几月的特征和\n",
    "#     data[feature.format('_diff_1')] = data[feature.format(2)]-data[feature.format(1)]\n",
    "    data[feature.format('sum_{0}'.format(month))] = 0\n",
    "    for i in range(1, month+1):\n",
    "        data[feature.format('sum_{0}'.format(month))] += data[feature.format(i)]\n",
    "    data[feature.format('mean')] = data[feature.format('sum_{0}'.format(month))]/month    "
   ]
  },
  {
   "cell_type": "markdown",
   "metadata": {},
   "source": [
    "###### 获取时移特征"
   ]
  },
  {
   "cell_type": "code",
   "execution_count": 6,
   "metadata": {
    "collapsed": true
   },
   "outputs": [],
   "source": [
    "def get_time_shift_feature(Data, month):\n",
    "    data = Data[['adcode','bodyType','id', 'model', 'regMonth', 'regYear', 'label', 'seq', 'model_adcode', \n",
    "                   'model_adcode_seq','adcode_seq', 'model_seq', 'popularity']]\n",
    "    for j in range(1,13):\n",
    "        data['model_adcode_seq_{0}'.format(j)] = data['model_adcode_seq'] + j\n",
    "        data_index = data[~data.label.isnull()].set_index('model_adcode_seq_{0}'.format(j))\n",
    "        data['shift_label_{0}'.format(j)] = data['model_adcode_seq'].map(data_index['label'])\n",
    "        if month==1:\n",
    "            data['shift_popularity_{0}'.format(j)] = data['model_adcode_seq'].map(data_index['popularity'])\n",
    "        data = data.drop(['model_adcode_seq_{0}'.format(j)], axis=1)\n",
    "    return data"
   ]
  },
  {
   "cell_type": "markdown",
   "metadata": {},
   "source": [
    "###### 获取组合时移特征"
   ]
  },
  {
   "cell_type": "code",
   "execution_count": 7,
   "metadata": {
    "collapsed": true
   },
   "outputs": [],
   "source": [
    "def get_group_shift_feature(data,group_feature):\n",
    "    Data = data\n",
    "    g_data = Data.groupby(by=[group_feature])['label'].sum(skipna=False)\n",
    "    g_data = g_data.fillna(np.nan).reset_index()\n",
    "    for j in range(1,13):\n",
    "        g_data[group_feature+'_{0}'.format(j)] = g_data[group_feature] + j\n",
    "        g_data_index = g_data[~g_data.label.isnull()].set_index(group_feature+'_{0}'.format(j))\n",
    "        g_data[group_feature+'_shift_{0}'.format(j)] = g_data[group_feature].map(g_data_index['label'])\n",
    "        del g_data[group_feature+'_{0}'.format(j)]\n",
    "    del g_data['label']\n",
    "    data = pd.merge(data, g_data, on=[group_feature], how='left')\n",
    "    return data"
   ]
  },
  {
   "cell_type": "markdown",
   "metadata": {},
   "source": [
    "###### 获取历史销量特征"
   ]
  },
  {
   "cell_type": "code",
   "execution_count": 8,
   "metadata": {
    "collapsed": true
   },
   "outputs": [],
   "source": [
    "def get_history_label_feature(month):\n",
    "    for i in [2,3,4,6,12]:\n",
    "        calculate_sum_mean('shift_label_{0}', i)\n",
    "        if month==1:\n",
    "            calculate_sum_mean('shift_popularity_{0}', i)\n",
    "        calculate_sum_mean('adcode_seq_shift_{0}', i)\n",
    "        calculate_sum_mean('model_seq_shift_{0}', i)"
   ]
  },
  {
   "cell_type": "markdown",
   "metadata": {},
   "source": [
    "###### 定义lgb模型"
   ]
  },
  {
   "cell_type": "code",
   "execution_count": 9,
   "metadata": {
    "collapsed": true
   },
   "outputs": [],
   "source": [
    "# lgb_model = lgb.LGBMRegressor(\n",
    "#                             num_leaves=32, reg_alpha=0.20, reg_lambda=0.20, objective='mse',\n",
    "#                             max_depth=-1, learning_rate=0.05, min_child_samples=10, seed=2018,\n",
    "#                             n_estimators=3000, subsample=0.8, colsample_bytree=0.8\n",
    "#                             )\n",
    "lgb_model = lgb.LGBMRegressor(\n",
    "    num_leaves=2**5-1, reg_alpha=0.25, reg_lambda=0.25, objective='mse',\n",
    "    max_depth=-1, learning_rate=0.05, min_child_samples=5, seed=2020,\n",
    "    n_estimators=2000, subsample=0.9, colsample_bytree=0.7\n",
    ")"
   ]
  },
  {
   "cell_type": "markdown",
   "metadata": {},
   "source": [
    "# 分车型预测单月销量，再预测下月"
   ]
  },
  {
   "cell_type": "code",
   "execution_count": 10,
   "metadata": {
    "scrolled": true
   },
   "outputs": [
    {
     "name": "stdout",
     "output_type": "stream",
     "text": [
      "=================predict bodytype0 month 1==================\n",
      "72\n",
      "train LGB model\n",
      "\n"
     ]
    },
    {
     "data": {
      "text/plain": [
       "LGBMRegressor(boosting_type='gbdt', class_weight=None, colsample_bytree=0.7,\n",
       "              importance_type='split', learning_rate=0.05, max_depth=-1,\n",
       "              min_child_samples=5, min_child_weight=0.001, min_split_gain=0.0,\n",
       "              n_estimators=2000, n_jobs=-1, num_leaves=31, objective='mse',\n",
       "              random_state=None, reg_alpha=0.25, reg_lambda=0.25, seed=2020,\n",
       "              silent=True, subsample=0.9, subsample_for_bin=200000,\n",
       "              subsample_freq=0)"
      ]
     },
     "execution_count": 10,
     "metadata": {},
     "output_type": "execute_result"
    },
    {
     "name": "stdout",
     "output_type": "stream",
     "text": [
      "month 1 train ending\n",
      "\n",
      "=================predict bodytype0 month 2==================\n",
      "54\n",
      "train LGB model\n",
      "\n"
     ]
    },
    {
     "data": {
      "text/plain": [
       "LGBMRegressor(boosting_type='gbdt', class_weight=None, colsample_bytree=0.7,\n",
       "              importance_type='split', learning_rate=0.05, max_depth=-1,\n",
       "              min_child_samples=5, min_child_weight=0.001, min_split_gain=0.0,\n",
       "              n_estimators=2000, n_jobs=-1, num_leaves=31, objective='mse',\n",
       "              random_state=None, reg_alpha=0.25, reg_lambda=0.25, seed=2020,\n",
       "              silent=True, subsample=0.9, subsample_for_bin=200000,\n",
       "              subsample_freq=0)"
      ]
     },
     "execution_count": 10,
     "metadata": {},
     "output_type": "execute_result"
    },
    {
     "name": "stdout",
     "output_type": "stream",
     "text": [
      "month 2 train ending\n",
      "\n",
      "=================predict bodytype0 month 3==================\n",
      "54\n",
      "train LGB model\n",
      "\n"
     ]
    },
    {
     "data": {
      "text/plain": [
       "LGBMRegressor(boosting_type='gbdt', class_weight=None, colsample_bytree=0.7,\n",
       "              importance_type='split', learning_rate=0.05, max_depth=-1,\n",
       "              min_child_samples=5, min_child_weight=0.001, min_split_gain=0.0,\n",
       "              n_estimators=2000, n_jobs=-1, num_leaves=31, objective='mse',\n",
       "              random_state=None, reg_alpha=0.25, reg_lambda=0.25, seed=2020,\n",
       "              silent=True, subsample=0.9, subsample_for_bin=200000,\n",
       "              subsample_freq=0)"
      ]
     },
     "execution_count": 10,
     "metadata": {},
     "output_type": "execute_result"
    },
    {
     "name": "stdout",
     "output_type": "stream",
     "text": [
      "month 3 train ending\n",
      "\n",
      "=================predict bodytype0 month 4==================\n",
      "54\n",
      "train LGB model\n",
      "\n"
     ]
    },
    {
     "data": {
      "text/plain": [
       "LGBMRegressor(boosting_type='gbdt', class_weight=None, colsample_bytree=0.7,\n",
       "              importance_type='split', learning_rate=0.05, max_depth=-1,\n",
       "              min_child_samples=5, min_child_weight=0.001, min_split_gain=0.0,\n",
       "              n_estimators=2000, n_jobs=-1, num_leaves=31, objective='mse',\n",
       "              random_state=None, reg_alpha=0.25, reg_lambda=0.25, seed=2020,\n",
       "              silent=True, subsample=0.9, subsample_for_bin=200000,\n",
       "              subsample_freq=0)"
      ]
     },
     "execution_count": 10,
     "metadata": {},
     "output_type": "execute_result"
    },
    {
     "name": "stdout",
     "output_type": "stream",
     "text": [
      "month 4 train ending\n",
      "\n",
      "=================predict bodytype1 month 1==================\n",
      "72\n",
      "train LGB model\n",
      "\n"
     ]
    },
    {
     "data": {
      "text/plain": [
       "LGBMRegressor(boosting_type='gbdt', class_weight=None, colsample_bytree=0.7,\n",
       "              importance_type='split', learning_rate=0.05, max_depth=-1,\n",
       "              min_child_samples=5, min_child_weight=0.001, min_split_gain=0.0,\n",
       "              n_estimators=2000, n_jobs=-1, num_leaves=31, objective='mse',\n",
       "              random_state=None, reg_alpha=0.25, reg_lambda=0.25, seed=2020,\n",
       "              silent=True, subsample=0.9, subsample_for_bin=200000,\n",
       "              subsample_freq=0)"
      ]
     },
     "execution_count": 10,
     "metadata": {},
     "output_type": "execute_result"
    },
    {
     "name": "stdout",
     "output_type": "stream",
     "text": [
      "month 1 train ending\n",
      "\n",
      "=================predict bodytype1 month 2==================\n",
      "54\n",
      "train LGB model\n",
      "\n"
     ]
    },
    {
     "data": {
      "text/plain": [
       "LGBMRegressor(boosting_type='gbdt', class_weight=None, colsample_bytree=0.7,\n",
       "              importance_type='split', learning_rate=0.05, max_depth=-1,\n",
       "              min_child_samples=5, min_child_weight=0.001, min_split_gain=0.0,\n",
       "              n_estimators=2000, n_jobs=-1, num_leaves=31, objective='mse',\n",
       "              random_state=None, reg_alpha=0.25, reg_lambda=0.25, seed=2020,\n",
       "              silent=True, subsample=0.9, subsample_for_bin=200000,\n",
       "              subsample_freq=0)"
      ]
     },
     "execution_count": 10,
     "metadata": {},
     "output_type": "execute_result"
    },
    {
     "name": "stdout",
     "output_type": "stream",
     "text": [
      "month 2 train ending\n",
      "\n",
      "=================predict bodytype1 month 3==================\n",
      "54\n",
      "train LGB model\n",
      "\n"
     ]
    },
    {
     "data": {
      "text/plain": [
       "LGBMRegressor(boosting_type='gbdt', class_weight=None, colsample_bytree=0.7,\n",
       "              importance_type='split', learning_rate=0.05, max_depth=-1,\n",
       "              min_child_samples=5, min_child_weight=0.001, min_split_gain=0.0,\n",
       "              n_estimators=2000, n_jobs=-1, num_leaves=31, objective='mse',\n",
       "              random_state=None, reg_alpha=0.25, reg_lambda=0.25, seed=2020,\n",
       "              silent=True, subsample=0.9, subsample_for_bin=200000,\n",
       "              subsample_freq=0)"
      ]
     },
     "execution_count": 10,
     "metadata": {},
     "output_type": "execute_result"
    },
    {
     "name": "stdout",
     "output_type": "stream",
     "text": [
      "month 3 train ending\n",
      "\n",
      "=================predict bodytype1 month 4==================\n",
      "54\n",
      "train LGB model\n",
      "\n"
     ]
    },
    {
     "data": {
      "text/plain": [
       "LGBMRegressor(boosting_type='gbdt', class_weight=None, colsample_bytree=0.7,\n",
       "              importance_type='split', learning_rate=0.05, max_depth=-1,\n",
       "              min_child_samples=5, min_child_weight=0.001, min_split_gain=0.0,\n",
       "              n_estimators=2000, n_jobs=-1, num_leaves=31, objective='mse',\n",
       "              random_state=None, reg_alpha=0.25, reg_lambda=0.25, seed=2020,\n",
       "              silent=True, subsample=0.9, subsample_for_bin=200000,\n",
       "              subsample_freq=0)"
      ]
     },
     "execution_count": 10,
     "metadata": {},
     "output_type": "execute_result"
    },
    {
     "name": "stdout",
     "output_type": "stream",
     "text": [
      "month 4 train ending\n",
      "\n",
      "=================predict bodytype2 month 1==================\n",
      "72\n",
      "train LGB model\n",
      "\n"
     ]
    },
    {
     "data": {
      "text/plain": [
       "LGBMRegressor(boosting_type='gbdt', class_weight=None, colsample_bytree=0.7,\n",
       "              importance_type='split', learning_rate=0.05, max_depth=-1,\n",
       "              min_child_samples=5, min_child_weight=0.001, min_split_gain=0.0,\n",
       "              n_estimators=2000, n_jobs=-1, num_leaves=31, objective='mse',\n",
       "              random_state=None, reg_alpha=0.25, reg_lambda=0.25, seed=2020,\n",
       "              silent=True, subsample=0.9, subsample_for_bin=200000,\n",
       "              subsample_freq=0)"
      ]
     },
     "execution_count": 10,
     "metadata": {},
     "output_type": "execute_result"
    },
    {
     "name": "stdout",
     "output_type": "stream",
     "text": [
      "month 1 train ending\n",
      "\n",
      "=================predict bodytype2 month 2==================\n",
      "54\n",
      "train LGB model\n",
      "\n"
     ]
    },
    {
     "data": {
      "text/plain": [
       "LGBMRegressor(boosting_type='gbdt', class_weight=None, colsample_bytree=0.7,\n",
       "              importance_type='split', learning_rate=0.05, max_depth=-1,\n",
       "              min_child_samples=5, min_child_weight=0.001, min_split_gain=0.0,\n",
       "              n_estimators=2000, n_jobs=-1, num_leaves=31, objective='mse',\n",
       "              random_state=None, reg_alpha=0.25, reg_lambda=0.25, seed=2020,\n",
       "              silent=True, subsample=0.9, subsample_for_bin=200000,\n",
       "              subsample_freq=0)"
      ]
     },
     "execution_count": 10,
     "metadata": {},
     "output_type": "execute_result"
    },
    {
     "name": "stdout",
     "output_type": "stream",
     "text": [
      "month 2 train ending\n",
      "\n",
      "=================predict bodytype2 month 3==================\n",
      "54\n",
      "train LGB model\n",
      "\n"
     ]
    },
    {
     "data": {
      "text/plain": [
       "LGBMRegressor(boosting_type='gbdt', class_weight=None, colsample_bytree=0.7,\n",
       "              importance_type='split', learning_rate=0.05, max_depth=-1,\n",
       "              min_child_samples=5, min_child_weight=0.001, min_split_gain=0.0,\n",
       "              n_estimators=2000, n_jobs=-1, num_leaves=31, objective='mse',\n",
       "              random_state=None, reg_alpha=0.25, reg_lambda=0.25, seed=2020,\n",
       "              silent=True, subsample=0.9, subsample_for_bin=200000,\n",
       "              subsample_freq=0)"
      ]
     },
     "execution_count": 10,
     "metadata": {},
     "output_type": "execute_result"
    },
    {
     "name": "stdout",
     "output_type": "stream",
     "text": [
      "month 3 train ending\n",
      "\n",
      "=================predict bodytype2 month 4==================\n",
      "54\n",
      "train LGB model\n",
      "\n"
     ]
    },
    {
     "data": {
      "text/plain": [
       "LGBMRegressor(boosting_type='gbdt', class_weight=None, colsample_bytree=0.7,\n",
       "              importance_type='split', learning_rate=0.05, max_depth=-1,\n",
       "              min_child_samples=5, min_child_weight=0.001, min_split_gain=0.0,\n",
       "              n_estimators=2000, n_jobs=-1, num_leaves=31, objective='mse',\n",
       "              random_state=None, reg_alpha=0.25, reg_lambda=0.25, seed=2020,\n",
       "              silent=True, subsample=0.9, subsample_for_bin=200000,\n",
       "              subsample_freq=0)"
      ]
     },
     "execution_count": 10,
     "metadata": {},
     "output_type": "execute_result"
    },
    {
     "name": "stdout",
     "output_type": "stream",
     "text": [
      "month 4 train ending\n",
      "\n",
      "=================predict bodytype3 month 1==================\n",
      "72\n",
      "train LGB model\n",
      "\n"
     ]
    },
    {
     "data": {
      "text/plain": [
       "LGBMRegressor(boosting_type='gbdt', class_weight=None, colsample_bytree=0.7,\n",
       "              importance_type='split', learning_rate=0.05, max_depth=-1,\n",
       "              min_child_samples=5, min_child_weight=0.001, min_split_gain=0.0,\n",
       "              n_estimators=2000, n_jobs=-1, num_leaves=31, objective='mse',\n",
       "              random_state=None, reg_alpha=0.25, reg_lambda=0.25, seed=2020,\n",
       "              silent=True, subsample=0.9, subsample_for_bin=200000,\n",
       "              subsample_freq=0)"
      ]
     },
     "execution_count": 10,
     "metadata": {},
     "output_type": "execute_result"
    },
    {
     "name": "stdout",
     "output_type": "stream",
     "text": [
      "month 1 train ending\n",
      "\n",
      "=================predict bodytype3 month 2==================\n",
      "54\n",
      "train LGB model\n",
      "\n"
     ]
    },
    {
     "data": {
      "text/plain": [
       "LGBMRegressor(boosting_type='gbdt', class_weight=None, colsample_bytree=0.7,\n",
       "              importance_type='split', learning_rate=0.05, max_depth=-1,\n",
       "              min_child_samples=5, min_child_weight=0.001, min_split_gain=0.0,\n",
       "              n_estimators=2000, n_jobs=-1, num_leaves=31, objective='mse',\n",
       "              random_state=None, reg_alpha=0.25, reg_lambda=0.25, seed=2020,\n",
       "              silent=True, subsample=0.9, subsample_for_bin=200000,\n",
       "              subsample_freq=0)"
      ]
     },
     "execution_count": 10,
     "metadata": {},
     "output_type": "execute_result"
    },
    {
     "name": "stdout",
     "output_type": "stream",
     "text": [
      "month 2 train ending\n",
      "\n",
      "=================predict bodytype3 month 3==================\n",
      "54\n",
      "train LGB model\n",
      "\n"
     ]
    },
    {
     "data": {
      "text/plain": [
       "LGBMRegressor(boosting_type='gbdt', class_weight=None, colsample_bytree=0.7,\n",
       "              importance_type='split', learning_rate=0.05, max_depth=-1,\n",
       "              min_child_samples=5, min_child_weight=0.001, min_split_gain=0.0,\n",
       "              n_estimators=2000, n_jobs=-1, num_leaves=31, objective='mse',\n",
       "              random_state=None, reg_alpha=0.25, reg_lambda=0.25, seed=2020,\n",
       "              silent=True, subsample=0.9, subsample_for_bin=200000,\n",
       "              subsample_freq=0)"
      ]
     },
     "execution_count": 10,
     "metadata": {},
     "output_type": "execute_result"
    },
    {
     "name": "stdout",
     "output_type": "stream",
     "text": [
      "month 3 train ending\n",
      "\n",
      "=================predict bodytype3 month 4==================\n",
      "54\n",
      "train LGB model\n",
      "\n"
     ]
    },
    {
     "data": {
      "text/plain": [
       "LGBMRegressor(boosting_type='gbdt', class_weight=None, colsample_bytree=0.7,\n",
       "              importance_type='split', learning_rate=0.05, max_depth=-1,\n",
       "              min_child_samples=5, min_child_weight=0.001, min_split_gain=0.0,\n",
       "              n_estimators=2000, n_jobs=-1, num_leaves=31, objective='mse',\n",
       "              random_state=None, reg_alpha=0.25, reg_lambda=0.25, seed=2020,\n",
       "              silent=True, subsample=0.9, subsample_for_bin=200000,\n",
       "              subsample_freq=0)"
      ]
     },
     "execution_count": 10,
     "metadata": {},
     "output_type": "execute_result"
    },
    {
     "name": "stdout",
     "output_type": "stream",
     "text": [
      "month 4 train ending\n",
      "\n"
     ]
    }
   ],
   "source": [
    "Data = data\n",
    "datas = pd.DataFrame()\n",
    "for k in range(4):\n",
    "    data = Data[Data['bodyType']==k]\n",
    "    for i in range(1, 5):\n",
    "        print('=================predict bodytype{0} month {1}=================='.format(k, i))\n",
    "\n",
    "        data = get_time_shift_feature(data, i)\n",
    "        data = get_group_shift_feature(data, 'adcode_seq')\n",
    "        data = get_group_shift_feature(data, 'model_seq')\n",
    "        get_history_label_feature(i)\n",
    "\n",
    "        data_columns = list(data.columns)\n",
    "        number_feature = []\n",
    "        dels = ['regMonth', 'regYear', 'adcode', 'bodyType', 'id', 'model', 'province', 'label', 'seq', 'model_adcode',\n",
    "                    'model_adcode_seq', 'adcode_seq', 'model_seq', 'popularity']\n",
    "        for index in data_columns:\n",
    "            if index in dels:\n",
    "                continue\n",
    "            else:\n",
    "                number_feature.append(index)\n",
    "\n",
    "        print(len(number_feature))\n",
    "        category_feature = ['regMonth', 'regYear', 'adcode', 'bodyType', 'model', 'model_adcode_seq', 'model_adcode']\n",
    "        features = list(number_feature) + category_feature\n",
    "\n",
    "        predict_data = data[data['seq'] == 24 + i]\n",
    "        train_idx = (data['seq'].between(13, 23 + i))\n",
    "\n",
    "        train_y = data[train_idx]['label']\n",
    "        train_x = data[train_idx][features]\n",
    "\n",
    "        print(\"train LGB model\\n\")\n",
    "        lgb_model.fit(train_x, train_y, categorical_feature=category_feature)\n",
    "        predict_data['lgb_pred_label'] = lgb_model.predict(predict_data[features])\n",
    "        print('month {} train ending\\n'.format(i))\n",
    "\n",
    "        predict_data = predict_data.sort_index(by=['id'])\n",
    "        data['transform_label'] = data['id'].map(predict_data.set_index('id')['lgb_pred_label'])\n",
    "        data['label'] = data['label'].fillna(data['transform_label'])\n",
    "        del data['transform_label']\n",
    "        datas = pd.concat([datas,predict_data],ignore_index=True)\n"
   ]
  },
  {
   "cell_type": "markdown",
   "metadata": {},
   "source": [
    "# submission "
   ]
  },
  {
   "cell_type": "code",
   "execution_count": 11,
   "metadata": {
    "collapsed": true
   },
   "outputs": [],
   "source": [
    "datas = datas.sort_index(by=['id'])\n",
    "datas['label'] = np.expm1(datas['lgb_pred_label'])\n",
    "datas['forecastVolum'] = datas['label'].apply(lambda x: 0 if x < 0 else x).round().astype(int)\n",
    "datas[['id', 'forecastVolum']].to_csv('./submit/lgb_one.csv', index=False)"
   ]
  },
  {
   "cell_type": "code",
   "execution_count": 12,
   "metadata": {},
   "outputs": [
    {
     "data": {
      "text/plain": [
       "448.10776515151514"
      ]
     },
     "execution_count": 12,
     "metadata": {},
     "output_type": "execute_result"
    },
    {
     "data": {
      "text/plain": [
       "regMonth\n",
       "1    487.974242\n",
       "2    328.345455\n",
       "3    493.456818\n",
       "4    482.654545\n",
       "Name: forecastVolum, dtype: float64"
      ]
     },
     "execution_count": 12,
     "metadata": {},
     "output_type": "execute_result"
    }
   ],
   "source": [
    "datas['forecastVolum'].mean()\n",
    "datas.groupby(['regMonth'])['forecastVolum'].mean()"
   ]
  }
 ],
 "metadata": {
  "kernelspec": {
   "display_name": "Python 3",
   "language": "python",
   "name": "python3"
  },
  "language_info": {
   "codemirror_mode": {
    "name": "ipython",
    "version": 3
   },
   "file_extension": ".py",
   "mimetype": "text/x-python",
   "name": "python",
   "nbconvert_exporter": "python",
   "pygments_lexer": "ipython3",
   "version": "3.6.2"
  }
 },
 "nbformat": 4,
 "nbformat_minor": 2
}
